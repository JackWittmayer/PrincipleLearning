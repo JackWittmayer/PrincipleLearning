{
  "nbformat": 4,
  "nbformat_minor": 0,
  "metadata": {
    "colab": {
      "provenance": [],
      "machine_shape": "hm",
      "gpuType": "T4",
      "mount_file_id": "1x4279fb3Djeeg0mcI8Ax-lOxAasVNVhx",
      "authorship_tag": "ABX9TyMxGd9yMMCDF5wlhtEqRG71",
      "include_colab_link": true
    },
    "kernelspec": {
      "name": "python3",
      "display_name": "Python 3"
    },
    "language_info": {
      "name": "python"
    },
    "accelerator": "GPU",
    "widgets": {
      "application/vnd.jupyter.widget-state+json": {
        "2aaf2c06059546429b739f9a2cf1a53a": {
          "model_module": "@jupyter-widgets/controls",
          "model_name": "HBoxModel",
          "model_module_version": "1.5.0",
          "state": {
            "_dom_classes": [],
            "_model_module": "@jupyter-widgets/controls",
            "_model_module_version": "1.5.0",
            "_model_name": "HBoxModel",
            "_view_count": null,
            "_view_module": "@jupyter-widgets/controls",
            "_view_module_version": "1.5.0",
            "_view_name": "HBoxView",
            "box_style": "",
            "children": [
              "IPY_MODEL_c65349cf219d4b6e8a0c1488cfd490ed",
              "IPY_MODEL_ba9fd46114b24822808f720ae18c8ff3",
              "IPY_MODEL_821e9cc505c44e20aa7c2550c666496e"
            ],
            "layout": "IPY_MODEL_842d6e5adc164b77b44a8ab2866eb364"
          }
        },
        "c65349cf219d4b6e8a0c1488cfd490ed": {
          "model_module": "@jupyter-widgets/controls",
          "model_name": "HTMLModel",
          "model_module_version": "1.5.0",
          "state": {
            "_dom_classes": [],
            "_model_module": "@jupyter-widgets/controls",
            "_model_module_version": "1.5.0",
            "_model_name": "HTMLModel",
            "_view_count": null,
            "_view_module": "@jupyter-widgets/controls",
            "_view_module_version": "1.5.0",
            "_view_name": "HTMLView",
            "description": "",
            "description_tooltip": null,
            "layout": "IPY_MODEL_bcb52d0e2dc948ea96fd6fe8dba0c30b",
            "placeholder": "​",
            "style": "IPY_MODEL_f00d540cff3c4c3785ac67561e6e94d0",
            "value": "Loading checkpoint shards: 100%"
          }
        },
        "ba9fd46114b24822808f720ae18c8ff3": {
          "model_module": "@jupyter-widgets/controls",
          "model_name": "FloatProgressModel",
          "model_module_version": "1.5.0",
          "state": {
            "_dom_classes": [],
            "_model_module": "@jupyter-widgets/controls",
            "_model_module_version": "1.5.0",
            "_model_name": "FloatProgressModel",
            "_view_count": null,
            "_view_module": "@jupyter-widgets/controls",
            "_view_module_version": "1.5.0",
            "_view_name": "ProgressView",
            "bar_style": "success",
            "description": "",
            "description_tooltip": null,
            "layout": "IPY_MODEL_924e64cc61e54630b4b0c2b91b7fbb0f",
            "max": 2,
            "min": 0,
            "orientation": "horizontal",
            "style": "IPY_MODEL_4d795ce911584160a2f3761bc0d23db1",
            "value": 2
          }
        },
        "821e9cc505c44e20aa7c2550c666496e": {
          "model_module": "@jupyter-widgets/controls",
          "model_name": "HTMLModel",
          "model_module_version": "1.5.0",
          "state": {
            "_dom_classes": [],
            "_model_module": "@jupyter-widgets/controls",
            "_model_module_version": "1.5.0",
            "_model_name": "HTMLModel",
            "_view_count": null,
            "_view_module": "@jupyter-widgets/controls",
            "_view_module_version": "1.5.0",
            "_view_name": "HTMLView",
            "description": "",
            "description_tooltip": null,
            "layout": "IPY_MODEL_fa688b306b814635b5e18076d29d140d",
            "placeholder": "​",
            "style": "IPY_MODEL_143daf6ee289425cb448e84688f27265",
            "value": " 2/2 [01:46&lt;00:00, 51.88s/it]"
          }
        },
        "842d6e5adc164b77b44a8ab2866eb364": {
          "model_module": "@jupyter-widgets/base",
          "model_name": "LayoutModel",
          "model_module_version": "1.2.0",
          "state": {
            "_model_module": "@jupyter-widgets/base",
            "_model_module_version": "1.2.0",
            "_model_name": "LayoutModel",
            "_view_count": null,
            "_view_module": "@jupyter-widgets/base",
            "_view_module_version": "1.2.0",
            "_view_name": "LayoutView",
            "align_content": null,
            "align_items": null,
            "align_self": null,
            "border": null,
            "bottom": null,
            "display": null,
            "flex": null,
            "flex_flow": null,
            "grid_area": null,
            "grid_auto_columns": null,
            "grid_auto_flow": null,
            "grid_auto_rows": null,
            "grid_column": null,
            "grid_gap": null,
            "grid_row": null,
            "grid_template_areas": null,
            "grid_template_columns": null,
            "grid_template_rows": null,
            "height": null,
            "justify_content": null,
            "justify_items": null,
            "left": null,
            "margin": null,
            "max_height": null,
            "max_width": null,
            "min_height": null,
            "min_width": null,
            "object_fit": null,
            "object_position": null,
            "order": null,
            "overflow": null,
            "overflow_x": null,
            "overflow_y": null,
            "padding": null,
            "right": null,
            "top": null,
            "visibility": null,
            "width": null
          }
        },
        "bcb52d0e2dc948ea96fd6fe8dba0c30b": {
          "model_module": "@jupyter-widgets/base",
          "model_name": "LayoutModel",
          "model_module_version": "1.2.0",
          "state": {
            "_model_module": "@jupyter-widgets/base",
            "_model_module_version": "1.2.0",
            "_model_name": "LayoutModel",
            "_view_count": null,
            "_view_module": "@jupyter-widgets/base",
            "_view_module_version": "1.2.0",
            "_view_name": "LayoutView",
            "align_content": null,
            "align_items": null,
            "align_self": null,
            "border": null,
            "bottom": null,
            "display": null,
            "flex": null,
            "flex_flow": null,
            "grid_area": null,
            "grid_auto_columns": null,
            "grid_auto_flow": null,
            "grid_auto_rows": null,
            "grid_column": null,
            "grid_gap": null,
            "grid_row": null,
            "grid_template_areas": null,
            "grid_template_columns": null,
            "grid_template_rows": null,
            "height": null,
            "justify_content": null,
            "justify_items": null,
            "left": null,
            "margin": null,
            "max_height": null,
            "max_width": null,
            "min_height": null,
            "min_width": null,
            "object_fit": null,
            "object_position": null,
            "order": null,
            "overflow": null,
            "overflow_x": null,
            "overflow_y": null,
            "padding": null,
            "right": null,
            "top": null,
            "visibility": null,
            "width": null
          }
        },
        "f00d540cff3c4c3785ac67561e6e94d0": {
          "model_module": "@jupyter-widgets/controls",
          "model_name": "DescriptionStyleModel",
          "model_module_version": "1.5.0",
          "state": {
            "_model_module": "@jupyter-widgets/controls",
            "_model_module_version": "1.5.0",
            "_model_name": "DescriptionStyleModel",
            "_view_count": null,
            "_view_module": "@jupyter-widgets/base",
            "_view_module_version": "1.2.0",
            "_view_name": "StyleView",
            "description_width": ""
          }
        },
        "924e64cc61e54630b4b0c2b91b7fbb0f": {
          "model_module": "@jupyter-widgets/base",
          "model_name": "LayoutModel",
          "model_module_version": "1.2.0",
          "state": {
            "_model_module": "@jupyter-widgets/base",
            "_model_module_version": "1.2.0",
            "_model_name": "LayoutModel",
            "_view_count": null,
            "_view_module": "@jupyter-widgets/base",
            "_view_module_version": "1.2.0",
            "_view_name": "LayoutView",
            "align_content": null,
            "align_items": null,
            "align_self": null,
            "border": null,
            "bottom": null,
            "display": null,
            "flex": null,
            "flex_flow": null,
            "grid_area": null,
            "grid_auto_columns": null,
            "grid_auto_flow": null,
            "grid_auto_rows": null,
            "grid_column": null,
            "grid_gap": null,
            "grid_row": null,
            "grid_template_areas": null,
            "grid_template_columns": null,
            "grid_template_rows": null,
            "height": null,
            "justify_content": null,
            "justify_items": null,
            "left": null,
            "margin": null,
            "max_height": null,
            "max_width": null,
            "min_height": null,
            "min_width": null,
            "object_fit": null,
            "object_position": null,
            "order": null,
            "overflow": null,
            "overflow_x": null,
            "overflow_y": null,
            "padding": null,
            "right": null,
            "top": null,
            "visibility": null,
            "width": null
          }
        },
        "4d795ce911584160a2f3761bc0d23db1": {
          "model_module": "@jupyter-widgets/controls",
          "model_name": "ProgressStyleModel",
          "model_module_version": "1.5.0",
          "state": {
            "_model_module": "@jupyter-widgets/controls",
            "_model_module_version": "1.5.0",
            "_model_name": "ProgressStyleModel",
            "_view_count": null,
            "_view_module": "@jupyter-widgets/base",
            "_view_module_version": "1.2.0",
            "_view_name": "StyleView",
            "bar_color": null,
            "description_width": ""
          }
        },
        "fa688b306b814635b5e18076d29d140d": {
          "model_module": "@jupyter-widgets/base",
          "model_name": "LayoutModel",
          "model_module_version": "1.2.0",
          "state": {
            "_model_module": "@jupyter-widgets/base",
            "_model_module_version": "1.2.0",
            "_model_name": "LayoutModel",
            "_view_count": null,
            "_view_module": "@jupyter-widgets/base",
            "_view_module_version": "1.2.0",
            "_view_name": "LayoutView",
            "align_content": null,
            "align_items": null,
            "align_self": null,
            "border": null,
            "bottom": null,
            "display": null,
            "flex": null,
            "flex_flow": null,
            "grid_area": null,
            "grid_auto_columns": null,
            "grid_auto_flow": null,
            "grid_auto_rows": null,
            "grid_column": null,
            "grid_gap": null,
            "grid_row": null,
            "grid_template_areas": null,
            "grid_template_columns": null,
            "grid_template_rows": null,
            "height": null,
            "justify_content": null,
            "justify_items": null,
            "left": null,
            "margin": null,
            "max_height": null,
            "max_width": null,
            "min_height": null,
            "min_width": null,
            "object_fit": null,
            "object_position": null,
            "order": null,
            "overflow": null,
            "overflow_x": null,
            "overflow_y": null,
            "padding": null,
            "right": null,
            "top": null,
            "visibility": null,
            "width": null
          }
        },
        "143daf6ee289425cb448e84688f27265": {
          "model_module": "@jupyter-widgets/controls",
          "model_name": "DescriptionStyleModel",
          "model_module_version": "1.5.0",
          "state": {
            "_model_module": "@jupyter-widgets/controls",
            "_model_module_version": "1.5.0",
            "_model_name": "DescriptionStyleModel",
            "_view_count": null,
            "_view_module": "@jupyter-widgets/base",
            "_view_module_version": "1.2.0",
            "_view_name": "StyleView",
            "description_width": ""
          }
        }
      }
    }
  },
  "cells": [
    {
      "cell_type": "markdown",
      "metadata": {
        "id": "view-in-github",
        "colab_type": "text"
      },
      "source": [
        "<a href=\"https://colab.research.google.com/github/JackWittmayer/PrincipleLearning/blob/main/principle_learning.ipynb\" target=\"_parent\"><img src=\"https://colab.research.google.com/assets/colab-badge.svg\" alt=\"Open In Colab\"/></a>"
      ]
    },
    {
      "cell_type": "code",
      "source": [
        "from transformers import AutoModelForCausalLM, AutoTokenizer"
      ],
      "metadata": {
        "id": "J_aADrDa1oMk"
      },
      "execution_count": 1,
      "outputs": []
    },
    {
      "cell_type": "code",
      "source": [
        "DRIVE_FOLDER = \"/content/drive/MyDrive/colab/\"\n",
        "MODEL_NAME = \"Qwen/Qwen3-4B-Thinking-2507\"\n",
        "MODEL_TOKENIZER = \"Qwen/Qwen3-4B-Thinking-2507-Tokenizer\"\n",
        "MODEL_PATH = DRIVE_FOLDER + MODEL_NAME\n",
        "TOKENIZER_PATH = DRIVE_FOLDER + MODEL_TOKENIZER"
      ],
      "metadata": {
        "id": "xOdXiybh1dA8"
      },
      "execution_count": 2,
      "outputs": []
    },
    {
      "cell_type": "code",
      "source": [
        "from google.colab import drive\n",
        "drive.mount('/content/drive')"
      ],
      "metadata": {
        "colab": {
          "base_uri": "https://localhost:8080/"
        },
        "id": "GIKXLWlv0N-t",
        "outputId": "aa5ba6f1-7dcc-48ab-f308-c1d5b9a7431d"
      },
      "execution_count": 3,
      "outputs": [
        {
          "output_type": "stream",
          "name": "stdout",
          "text": [
            "Drive already mounted at /content/drive; to attempt to forcibly remount, call drive.mount(\"/content/drive\", force_remount=True).\n"
          ]
        }
      ]
    },
    {
      "cell_type": "code",
      "execution_count": 4,
      "metadata": {
        "id": "GuawTY0xtxwv",
        "colab": {
          "base_uri": "https://localhost:8080/",
          "height": 67,
          "referenced_widgets": [
            "2aaf2c06059546429b739f9a2cf1a53a",
            "c65349cf219d4b6e8a0c1488cfd490ed",
            "ba9fd46114b24822808f720ae18c8ff3",
            "821e9cc505c44e20aa7c2550c666496e",
            "842d6e5adc164b77b44a8ab2866eb364",
            "bcb52d0e2dc948ea96fd6fe8dba0c30b",
            "f00d540cff3c4c3785ac67561e6e94d0",
            "924e64cc61e54630b4b0c2b91b7fbb0f",
            "4d795ce911584160a2f3761bc0d23db1",
            "fa688b306b814635b5e18076d29d140d",
            "143daf6ee289425cb448e84688f27265"
          ]
        },
        "outputId": "bf426856-c8c2-4ef9-ccda-18f46382d717"
      },
      "outputs": [
        {
          "output_type": "stream",
          "name": "stderr",
          "text": [
            "`torch_dtype` is deprecated! Use `dtype` instead!\n"
          ]
        },
        {
          "output_type": "display_data",
          "data": {
            "text/plain": [
              "Loading checkpoint shards:   0%|          | 0/2 [00:00<?, ?it/s]"
            ],
            "application/vnd.jupyter.widget-view+json": {
              "version_major": 2,
              "version_minor": 0,
              "model_id": "2aaf2c06059546429b739f9a2cf1a53a"
            }
          },
          "metadata": {}
        }
      ],
      "source": [
        "# load the tokenizer and the model\n",
        "tokenizer = AutoTokenizer.from_pretrained(TOKENIZER_PATH)\n",
        "model = AutoModelForCausalLM.from_pretrained(\n",
        "    MODEL_PATH,\n",
        "    torch_dtype=\"auto\",\n",
        "    device_map=\"auto\"\n",
        ")"
      ]
    },
    {
      "cell_type": "code",
      "source": [
        "# prepare the model input\n",
        "prompt = \"Give me a short introduction to large language model.\"\n",
        "messages = [\n",
        "    {\"role\": \"user\", \"content\": prompt}\n",
        "]\n",
        "text = tokenizer.apply_chat_template(\n",
        "    messages,\n",
        "    tokenize=False,\n",
        "    add_generation_prompt=True,\n",
        ")\n",
        "model_inputs = tokenizer([text], return_tensors=\"pt\").to(model.device)\n",
        "\n",
        "# conduct text completion\n",
        "generated_ids = model.generate(\n",
        "    **model_inputs,\n",
        "    max_new_tokens=32768\n",
        ")\n",
        "output_ids = generated_ids[0][len(model_inputs.input_ids[0]):].tolist()\n",
        "\n",
        "# parsing thinking content\n",
        "try:\n",
        "    # rindex finding 151668 (</think>)\n",
        "    index = len(output_ids) - output_ids[::-1].index(151668)\n",
        "except ValueError:\n",
        "    index = 0\n",
        "\n",
        "thinking_content = tokenizer.decode(output_ids[:index], skip_special_tokens=True).strip(\"\\n\")\n",
        "content = tokenizer.decode(output_ids[index:], skip_special_tokens=True).strip(\"\\n\")\n",
        "\n",
        "print(\"thinking content:\", thinking_content) # no opening <think> tag\n",
        "print(\"content:\", content)"
      ],
      "metadata": {
        "colab": {
          "base_uri": "https://localhost:8080/"
        },
        "id": "EQmGb3q56GTo",
        "outputId": "8f2b2565-18ac-4089-e812-e806a713519c"
      },
      "execution_count": 5,
      "outputs": [
        {
          "output_type": "stream",
          "name": "stdout",
          "text": [
            "thinking content: Okay, the user asked for a short introduction to large language models. Hmm, they probably want something concise but informative—maybe they're a student, a professional new to AI, or just someone curious about tech trends.  \n",
            "\n",
            "First, I should avoid jargon overload since they said \"short.\" Gotta focus on the core idea: LLMs are AI systems that understand and generate human-like text. Key points to hit:  \n",
            "- They're trained on massive text data (that's why they're \"large\")  \n",
            "- They predict words instead of following rigid rules (unlike older chatbots)  \n",
            "- They're used for writing, coding, answering questions—real-world stuff people care about  \n",
            "\n",
            "Wait, should I mention specific examples? Like GPT or ChatGPT? Yeah, naming one makes it concrete. But since they want it short, I'll just say \"models like GPT\" without diving into versions.  \n",
            "\n",
            "Also, the user didn't specify depth, so I'll skip technical details like transformers or training methods. No need to confuse them. Just the \"what\" and \"why it matters.\"  \n",
            "\n",
            "*Double-checking*:  \n",
            "- Short? ✔️ (under 100 words)  \n",
            "- Clear? ✔️ (no jargon like \"neural networks\" or \"embeddings\")  \n",
            "- Practical? ✔️ (mentions real uses: writing, coding, Q&A)  \n",
            "\n",
            "Oh! Important—they might confuse LLMs with regular chatbots. Should clarify they're *not* just scripted responses but learned from data. Added that bit about \"understanding context\" to distinguish.  \n",
            "\n",
            "*Final polish*: Made sure the last sentence ties it to why it's useful (\"powerful tools\"). User probably wants to grasp the value, not just definitions. Done!\n",
            "</think>\n",
            "content: Here's a concise introduction to **Large Language Models (LLMs)**:\n",
            "\n",
            "> **Large Language Models (LLMs)** are powerful AI systems trained on vast amounts of text data (like books, websites, and documents) to understand and generate human-like language. Unlike older chatbots that follow fixed rules, LLMs learn patterns and context from their training, enabling them to answer questions, write stories, code, translate languages, and more. They’re the backbone of modern tools like ChatGPT, Claude, and Gemini. While impressive, they require significant computing power and can sometimes produce inaccurate or biased outputs—so they’re best used as **helpful tools**, not replacements for human judgment.\n",
            "\n",
            "*(~100 words — perfect for a quick overview!)*\n"
          ]
        }
      ]
    },
    {
      "cell_type": "code",
      "source": [
        "print(model.device)"
      ],
      "metadata": {
        "colab": {
          "base_uri": "https://localhost:8080/"
        },
        "id": "00ZRC6AYy6sT",
        "outputId": "8b6df1d8-29df-4701-e490-2fd1b1983eab"
      },
      "execution_count": 7,
      "outputs": [
        {
          "output_type": "stream",
          "name": "stdout",
          "text": [
            "cuda:0\n"
          ]
        }
      ]
    },
    {
      "cell_type": "code",
      "source": [
        "tokenizer.save_pretrained(TOKENIZER_PATH)"
      ],
      "metadata": {
        "colab": {
          "base_uri": "https://localhost:8080/"
        },
        "id": "zN6bW39V1R2w",
        "outputId": "af6a2506-bb60-4046-d61c-de17f3457ac5"
      },
      "execution_count": 10,
      "outputs": [
        {
          "output_type": "execute_result",
          "data": {
            "text/plain": [
              "('/content/drive/MyDrive/colab/Qwen/Qwen3-4B-Thinking-2507-Tokenizer/tokenizer_config.json',\n",
              " '/content/drive/MyDrive/colab/Qwen/Qwen3-4B-Thinking-2507-Tokenizer/special_tokens_map.json',\n",
              " '/content/drive/MyDrive/colab/Qwen/Qwen3-4B-Thinking-2507-Tokenizer/chat_template.jinja',\n",
              " '/content/drive/MyDrive/colab/Qwen/Qwen3-4B-Thinking-2507-Tokenizer/vocab.json',\n",
              " '/content/drive/MyDrive/colab/Qwen/Qwen3-4B-Thinking-2507-Tokenizer/merges.txt',\n",
              " '/content/drive/MyDrive/colab/Qwen/Qwen3-4B-Thinking-2507-Tokenizer/added_tokens.json',\n",
              " '/content/drive/MyDrive/colab/Qwen/Qwen3-4B-Thinking-2507-Tokenizer/tokenizer.json')"
            ]
          },
          "metadata": {},
          "execution_count": 10
        }
      ]
    },
    {
      "cell_type": "code",
      "source": [],
      "metadata": {
        "id": "yvvtlzwm1JpS"
      },
      "execution_count": null,
      "outputs": []
    }
  ]
}